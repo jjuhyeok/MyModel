{
  "nbformat": 4,
  "nbformat_minor": 0,
  "metadata": {
    "colab": {
      "provenance": []
    },
    "kernelspec": {
      "name": "python3",
      "display_name": "Python 3"
    },
    "language_info": {
      "name": "python"
    }
  },
  "cells": [
    {
      "cell_type": "code",
      "execution_count": null,
      "metadata": {
        "colab": {
          "base_uri": "https://localhost:8080/"
        },
        "id": "Rf1is9Fqx4cI",
        "outputId": "a1e90fac-a156-435f-d0a1-d569ab332202"
      },
      "outputs": [
        {
          "output_type": "stream",
          "name": "stdout",
          "text": [
            "iter : 0   A : y_pred : 0.000000, B : y_pred : 0.000000,  C : y_pred : 0.000000     dw_X1 : -7.666667,     dw_X2 : -18.333333    db : -3.333333     weights_X1 : 0.076667,     weights_X2 : 0.183333    bias : 0.033333\n",
            "iter : 1   A : y_pred : 1.393333, B : y_pred : 2.386667,  C : y_pred : 0.446667     dw_X1 : -5.064444,     dw_X2 : -5.286667    db : -1.924444     weights_X1 : 0.127311,     weights_X2 : 0.236200    bias : 0.052578\n",
            "iter : 2   A : y_pred : 1.833289, B : y_pred : 3.141600,  C : y_pred : 0.670711     dw_X1 : -4.190459,     dw_X2 : -1.165689    db : -1.451467     weights_X1 : 0.169216,     weights_X2 : 0.247857    bias : 0.067092\n",
            "iter : 3   A : y_pred : 1.971306, B : y_pred : 3.379807,  C : y_pred : 0.822596     dw_X1 : -3.833764,     dw_X2 : 0.159806    db : -1.275430     weights_X1 : 0.207553,     weights_X2 : 0.246259    bias : 0.079847\n",
            "iter : 4   A : y_pred : 2.011212, B : y_pred : 3.450059,  C : y_pred : 0.948766     dw_X1 : -3.647458,     dw_X2 : 0.575987    db : -1.196654     weights_X1 : 0.244028,     weights_X2 : 0.240499    bias : 0.091813\n",
            "iter : 5   A : y_pred : 2.019334, B : y_pred : 3.465857,  C : y_pred : 1.064396     dw_X1 : -3.518588,     dw_X2 : 0.696671    db : -1.150138     weights_X1 : 0.279214,     weights_X2 : 0.233532    bias : 0.103315\n",
            "iter : 6   A : y_pred : 2.017254, B : y_pred : 3.464129,  C : y_pred : 1.174488     dw_X1 : -3.410341,     dw_X2 : 0.721606    db : -1.114709     weights_X1 : 0.313317,     weights_X2 : 0.226316    bias : 0.114462\n",
            "iter : 7   A : y_pred : 2.011992, B : y_pred : 3.456890,  C : y_pred : 1.280730     dw_X1 : -3.310679,     dw_X2 : 0.715787    db : -1.083463     weights_X1 : 0.346424,     weights_X2 : 0.219158    bias : 0.125296\n",
            "iter : 8   A : y_pred : 2.005829, B : y_pred : 3.448044,  C : y_pred : 1.383727     dw_X1 : -3.215634,     dw_X2 : 0.700353    db : -1.054133     weights_X1 : 0.378580,     weights_X2 : 0.212155    bias : 0.135838\n",
            "iter : 9   A : y_pred : 1.999502, B : y_pred : 3.438856,  C : y_pred : 1.483734     dw_X1 : -3.123862,     dw_X2 : 0.682172    db : -1.025970     weights_X1 : 0.409819,     weights_X2 : 0.205333    bias : 0.146097\n",
            "Weights:  [0.40981896 0.20533307]\n",
            "Bias:  0.1460974202483582\n"
          ]
        }
      ],
      "source": [
        "import numpy as np\n",
        "\n",
        "class MyLassoRegression:\n",
        "    def __init__(self, learning_rate=0.01, iterations=10, alpha=0.1):\n",
        "        self.learning_rate = learning_rate\n",
        "        self.iterations = iterations\n",
        "        self.alpha = alpha\n",
        "        self.weights = None\n",
        "        self.bias = None\n",
        "\n",
        "    def fit(self, X, y):\n",
        "        # 가중치와 편향을 초기화합니다\n",
        "        num_samples, num_features = X.shape\n",
        "        self.weights = np.zeros(num_features)\n",
        "        self.bias = 0\n",
        "\n",
        "        # gradient descent를 사용하여 가중치를 업데이트합니다\n",
        "        for i in range(self.iterations):\n",
        "            y_predict = np.dot(X, self.weights) + self.bias\n",
        "            dw = (1 / num_samples) * np.dot(X.T, (y_predict - y)) + self.alpha * np.sign(self.weights)\n",
        "            db = (1 / num_samples) * np.sum(y_predict - y)\n",
        "\n",
        "            self.weights -= self.learning_rate * dw\n",
        "            self.bias -= self.learning_rate * db\n",
        "\n",
        "            print(\"iter : %d\" %(i) + \"   A : y_pred : %f, B : y_pred : %f,  C : y_pred : %f\" %(y_predict[0], y_predict[1], y_predict[2]) + \"     dw_X1 : %f,     dw_X2 : %f\" %(dw[0],dw[1]) + \"    db : %f\" %(db) +  \"     weights_X1 : %f,     weights_X2 : %f\" %(self.weights[0],self.weights[1]) + \"    bias : %f\"%(self.bias))\n",
        "\n",
        "    def predict(self, X):\n",
        "        return np.dot(X, self.weights) + self.bias\n",
        "\n",
        "# 학습 데이터를 설정합니다\n",
        "X = np.array([[1, 7], [2, 12], [3, 1]])\n",
        "y = np.array([2, 3, 5])\n",
        "\n",
        "# 모델을 학습시킵니다\n",
        "model = MyLassoRegression(learning_rate=0.01, iterations=10, alpha=0.1)\n",
        "model.fit(X, y)\n",
        "\n",
        "# y : 성\n",
        "\n",
        "# 결과를 출력합니다\n",
        "print(\"Weights: \", model.weights) #w1 : 학습시간 w2 : 태어난 달\n",
        "print(\"Bias: \", model.bias)\n"
      ]
    }
  ]
}