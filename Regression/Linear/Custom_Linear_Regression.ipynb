{
  "nbformat": 4,
  "nbformat_minor": 0,
  "metadata": {
    "colab": {
      "provenance": []
    },
    "kernelspec": {
      "name": "python3",
      "display_name": "Python 3"
    },
    "language_info": {
      "name": "python"
    }
  },
  "cells": [
    {
      "cell_type": "code",
      "source": [
        "import numpy as np\n",
        "\n",
        "class MyLinearRegression:\n",
        "    def __init__(self):\n",
        "        self.coefficients = None  # 선형 회귀 직선의 기울기를 나타내는 계수(coefficients)\n",
        "        self.intercept = None  # 선형 회귀 직선의 y 절편을 나타내는 값(intercept)\n",
        "\n",
        "    def fit(self, X, y):\n",
        "        # 입력 데이터에 편향(bias)을 추가하기 위해 X에 일렬의 1로 이루어진 열을 추가합니다.\n",
        "\n",
        "        print(X)\n",
        "        X = np.concatenate((np.ones((X.shape[0], 1)), X), axis=1)\n",
        "        print(X)\n",
        "        # 최소 제곱법을 사용하여 회귀 모델의 파라미터를 계산합니다.\n",
        "        params = np.linalg.lstsq(X, y, rcond=None)[0]\n",
        "        print(params)\n",
        "        # 계산된 파라미터를 저장합니다.\n",
        "        self.intercept = params[0]  # y 절편에 해당하는 값\n",
        "        self.coefficients = params[1:]  # 기울기에 해당하는 계수\n",
        "\n",
        "    def predict(self, X):\n",
        "        # 입력 데이터에 편향(bias)을 추가하기 위해 X에 일렬의 1로 이루어진 열을 추가합니다.\n",
        "        X = np.concatenate((np.ones((X.shape[0], 1)), X), axis=1)\n",
        "\n",
        "        # 입력 데이터와 계산된 파라미터를 사용하여 예측 값을 계산합니다.\n",
        "        y_pred = X.dot(np.concatenate(([self.intercept], self.coefficients)))\n",
        "\n",
        "        # 계산된 예측 값들을 반환합니다.\n",
        "        return y_pred\n",
        "\n",
        "\n",
        "\"\"\"\n",
        "선형 회귀 모델을 구현한 MyLinearRegression 클래스입니다.\n",
        "\n",
        "- __init__ 메서드:\n",
        "  - self.coefficients: 선형 회귀 직선의 기울기를 나타내는 계수(coefficients)를 초기화합니다.\n",
        "  - self.intercept: 선형 회귀 직선의 y 절편을 나타내는 값(intercept)을 초기화합니다.\n",
        "\n",
        "- fit 메서드:\n",
        "  - X: 각 샘플의 특성값이 들어있는 행렬입니다.\n",
        "  - y: 목표 변수(타깃 값)입니다.\n",
        "  - 입력 데이터 X에 편향(bias)을 추가하기 위해 X에 일렬의 1로 이루어진 열을 추가합니다.\n",
        "  - 최소 제곱법(least squares method)을 사용하여 회귀 모델의 파라미터를 계산합니다.\n",
        "  - 파라미터 계산에는 역행렬(inverse)과 행렬 곱셈을 사용합니다.\n",
        "  - 계산된 파라미터를 self.coefficients와 self.intercept에 저장합니다.\n",
        "\n",
        "- predict 메서드:\n",
        "  - X: 예측할 입력 데이터입니다.\n",
        "  - 입력 데이터 X에 편향(bias)을 추가하기 위해 X에 일렬의 1로 이루어진 열을 추가합니다.\n",
        "  - 계산된 파라미터(self.coefficients와 self.intercept)를 사용하여 예측 값을 계산합니다.\n",
        "  - 계산된 예측 값들을 반환합니다.\n",
        "\n",
        "\n",
        "\n",
        "장점 (편향을 사용하지 않는 경우):\n",
        "\n",
        "모델이 원점 (0, 0, ...)을 지나도록 학습하므로, 데이터가 원점 주변에 군중되어 있는 경우 모델이 잘 동작할 수 있습니다.\n",
        "모델에 추가적인 파라미터가 없으므로 모델의 복잡성이 낮아집니다.\n",
        "모델의 추정량(estimator)이 더 효율적일 수 있습니다. 특히, 입력 데이터의 차원이 크고 특성들이 서로 상관관계가 적은 경우에 유리할 수 있습니다.\n",
        "\n",
        "\n",
        "단점 (편향을 사용하지 않는 경우):\n",
        "\n",
        "모델이 데이터의 평균을 잘 반영하지 못할 수 있습니다. 데이터의 평균과 원점 사이에 차이가 있는 경우 모델의 예측이 부정확할 수 있습니다.\n",
        "모델이 데이터에 대한 편향을 고려하지 않으므로, 원점에서 멀리 떨어진 데이터에 대해서는 부정확한 예측을 할 수 있습니다.\n",
        "모델이 편향 값을 학습하지 않으므로, 데이터에 편향이 존재하는 경우 모델이 그것을 학습하기 어려울 수 있습니다.\n",
        "\"\"\"\n"
      ],
      "metadata": {
        "colab": {
          "base_uri": "https://localhost:8080/",
          "height": 127
        },
        "id": "lvhqLskBXKzE",
        "outputId": "a4ac0f30-c688-480b-d432-7b062055e23e"
      },
      "execution_count": 87,
      "outputs": [
        {
          "output_type": "execute_result",
          "data": {
            "text/plain": [
              "'\\n선형 회귀 모델을 구현한 MyLinearRegression 클래스입니다.\\n\\n- __init__ 메서드:\\n  - self.coefficients: 선형 회귀 직선의 기울기를 나타내는 계수(coefficients)를 초기화합니다.\\n  - self.intercept: 선형 회귀 직선의 y 절편을 나타내는 값(intercept)을 초기화합니다.\\n\\n- fit 메서드:\\n  - X: 각 샘플의 특성값이 들어있는 행렬입니다.\\n  - y: 목표 변수(타깃 값)입니다.\\n  - 입력 데이터 X에 편향(bias)을 추가하기 위해 X에 일렬의 1로 이루어진 열을 추가합니다.\\n  - 최소 제곱법(least squares method)을 사용하여 회귀 모델의 파라미터를 계산합니다.\\n  - 파라미터 계산에는 역행렬(inverse)과 행렬 곱셈을 사용합니다.\\n  - 계산된 파라미터를 self.coefficients와 self.intercept에 저장합니다.\\n\\n- predict 메서드:\\n  - X: 예측할 입력 데이터입니다.\\n  - 입력 데이터 X에 편향(bias)을 추가하기 위해 X에 일렬의 1로 이루어진 열을 추가합니다.\\n  - 계산된 파라미터(self.coefficients와 self.intercept)를 사용하여 예측 값을 계산합니다.\\n  - 계산된 예측 값들을 반환합니다.\\n\\n\\n\\n장점 (편향을 사용하지 않는 경우):\\n\\n모델이 원점 (0, 0, ...)을 지나도록 학습하므로, 데이터가 원점 주변에 군중되어 있는 경우 모델이 잘 동작할 수 있습니다.\\n모델에 추가적인 파라미터가 없으므로 모델의 복잡성이 낮아집니다.\\n모델의 추정량(estimator)이 더 효율적일 수 있습니다. 특히, 입력 데이터의 차원이 크고 특성들이 서로 상관관계가 적은 경우에 유리할 수 있습니다.\\n\\n\\n단점 (편향을 사용하지 않는 경우):\\n\\n모델이 데이터의 평균을 잘 반영하지 못할 수 있습니다. 데이터의 평균과 원점 사이에 차이가 있는 경우 모델의 예측이 부정확할 수 있습니다.\\n모델이 데이터에 대한 편향을 고려하지 않으므로, 원점에서 멀리 떨어진 데이터에 대해서는 부정확한 예측을 할 수 있습니다.\\n모델이 편향 값을 학습하지 않으므로, 데이터에 편향이 존재하는 경우 모델이 그것을 학습하기 어려울 수 있습니다.\\n'"
            ],
            "application/vnd.google.colaboratory.intrinsic+json": {
              "type": "string"
            }
          },
          "metadata": {},
          "execution_count": 87
        }
      ]
    },
    {
      "cell_type": "code",
      "source": [
        "import numpy as np\n",
        "\n",
        "# instantiate the model\n",
        "model = MyLinearRegression()\n",
        "\n",
        "# create some data\n",
        "X = np.random.randint(0, 10, size=(3, 1))\n",
        "print(X)\n",
        "y = X + 1 + 0.5*np.random.randn(3, 1)\n",
        "#y = np.random.randint(0, 1000, size=(10, 1))\n",
        "\n",
        "# fit the model\n",
        "model.fit(X, y)\n",
        "\n",
        "  # make predictions\n",
        "y_pred = model.predict(X)\n",
        "y_pred"
      ],
      "metadata": {
        "colab": {
          "base_uri": "https://localhost:8080/"
        },
        "id": "Wnm_6P5JW2_8",
        "outputId": "3dc6c116-8696-4e8f-d32b-c9e6c3261ff8"
      },
      "execution_count": 89,
      "outputs": [
        {
          "output_type": "stream",
          "name": "stdout",
          "text": [
            "[[8]\n",
            " [8]\n",
            " [5]]\n",
            "[[8]\n",
            " [8]\n",
            " [5]]\n",
            "[[1. 8.]\n",
            " [1. 8.]\n",
            " [1. 5.]]\n",
            "[[1.00196191]\n",
            " [0.96183452]]\n"
          ]
        },
        {
          "output_type": "execute_result",
          "data": {
            "text/plain": [
              "array([[8.69663804],\n",
              "       [8.69663804],\n",
              "       [5.81113449]])"
            ]
          },
          "metadata": {},
          "execution_count": 89
        }
      ]
    },
    {
      "cell_type": "code",
      "source": [
        "# 예측 값 계산\n",
        "X_test = np.linspace(0, 1000, 100).reshape(-1, 1)\n",
        "y_pred = model.predict(X_test)\n"
      ],
      "metadata": {
        "id": "A--Zacz9K13I"
      },
      "execution_count": 53,
      "outputs": []
    },
    {
      "cell_type": "code",
      "source": [
        "import matplotlib.pyplot as plt\n",
        "# 원본 데이터 그리기\n",
        "plt.scatter(X, y, color='blue', label='Actual')\n",
        "# 예측선 그리기\n",
        "plt.plot(X_test, y_pred, color='red', label='Prediction')\n",
        "plt.legend()\n",
        "plt.show()"
      ],
      "metadata": {
        "colab": {
          "base_uri": "https://localhost:8080/",
          "height": 430
        },
        "id": "I5Fk-kqmKvO8",
        "outputId": "83fb8d5f-c5d2-4755-b6e1-6a91334b892b"
      },
      "execution_count": 54,
      "outputs": [
        {
          "output_type": "display_data",
          "data": {
            "text/plain": [
              "<Figure size 640x480 with 1 Axes>"
            ],
            "image/png": "[encoded data removed]"
          },
          "metadata": {}
        }
      ]
    },
    {
      "cell_type": "markdown",
      "source": [
        "# 다중회귀(최소제곱법)"
      ],
      "metadata": {
        "id": "MPWTvl8SseG7"
      }
    },
    {
      "cell_type": "code",
      "source": [
        "import numpy as np\n",
        "\n",
        "class MyLinearRegression:\n",
        "    def __init__(self):\n",
        "        self.coefficients = None\n",
        "        self.intercept = None\n",
        "\n",
        "    def fit(self, X, y):\n",
        "        print(X)\n",
        "        X = np.concatenate((np.ones((X.shape[0], 1)), X), axis=1)\n",
        "        print(X)\n",
        "        params = np.linalg.lstsq(X, y, rcond=None)[0]\n",
        "        self.intercept = params[0]\n",
        "        self.coefficients = params[1:]\n",
        "\n",
        "    def predict(self, X):\n",
        "        X = np.concatenate((np.ones((X.shape[0], 1)), X), axis=1)\n",
        "        y_pred = X.dot(np.concatenate(([self.intercept], self.coefficients)))\n",
        "        return y_pred\n",
        "\n",
        "# instantiate the model\n",
        "model = MyLinearRegression()\n",
        "\n",
        "# create some data with 2 independent variables\n",
        "X = np.random.randint(0, 10, size=(3, 2))\n",
        "y = X[:,0:1] + 2*X[:,1:] + 1 + 0.5*np.random.randn(3, 1)\n",
        "print(X)\n",
        "print(y)\n",
        "\n",
        "# fit the model\n",
        "model.fit(X, y)\n",
        "\n",
        "# make predictions\n",
        "y_pred = model.predict(X)\n",
        "print(y_pred)\n"
      ],
      "metadata": {
        "colab": {
          "base_uri": "https://localhost:8080/"
        },
        "id": "n3rxhSCaK5FP",
        "outputId": "505b46de-2094-4589-e9cd-ef7d5c3a97b8"
      },
      "execution_count": 82,
      "outputs": [
        {
          "output_type": "stream",
          "name": "stdout",
          "text": [
            "[[5 1]\n",
            " [9 6]\n",
            " [3 1]]\n",
            "[[ 8.09382672]\n",
            " [21.8370269 ]\n",
            " [ 6.170342  ]]\n",
            "[[5 1]\n",
            " [9 6]\n",
            " [3 1]]\n",
            "[[1. 5. 1.]\n",
            " [1. 9. 6.]\n",
            " [1. 3. 1.]]\n",
            "[[ 8.09382672]\n",
            " [21.8370269 ]\n",
            " [ 6.170342  ]]\n"
          ]
        }
      ]
    },
    {
      "cell_type": "markdown",
      "source": [
        "# Linear Regression (SGD)"
      ],
      "metadata": {
        "id": "QpJKeKIusu0M"
      }
    },
    {
      "cell_type": "code",
      "source": [
        "import numpy as np\n",
        "\n",
        "class MyLinearRegression:\n",
        "    # 초기화 메소드를 정의합니다. 학습률과 반복 횟수를 인자로 받습니다.\n",
        "    def __init__(self, learning_rate=0.01, iterations=1000):\n",
        "        self.learning_rate = learning_rate  # 경사하강법에서 사용할 학습률을 정의합니다.\n",
        "        self.iterations = iterations  # 경사하강법에서 사용할 반복 횟수를 정의합니다.\n",
        "        self.weights = None  # 모델의 가중치를 저장할 변수를 정의합니다.\n",
        "        self.bias = None  # 모델의 편향(bias)를 저장할 변수를 정의합니다.\n",
        "\n",
        "    # fit 메소드를 정의합니다. 이 메소드에서 모델을 학습합니다.\n",
        "    def fit(self, X, y):\n",
        "        # 훈련 데이터의 샘플 수와 특성 수를 가져옵니다.\n",
        "        num_samples, num_features = X.shape\n",
        "        # 가중치를 특성 수와 같은 크기의 0 벡터로 초기화합니다.\n",
        "        self.weights = np.zeros(num_features)\n",
        "        # 편향을 0으로 초기화합니다.\n",
        "        self.bias = 0\n",
        "\n",
        "        # 경사하강법을 사용하여 주어진 반복 횟수만큼 모델을 학습합니다.\n",
        "        for _ in range(self.iterations):\n",
        "            # 현재의 가중치와 편향을 사용하여 예측값을 계산합니다.\n",
        "            y_predict = np.dot(X, self.weights) + self.bias\n",
        "\n",
        "            # 가중치와 편향에 대한 손실 함수의 기울기를 계산합니다.\n",
        "            dw = (1 / num_samples) * np.dot(X.T, (y_predict - y))\n",
        "            db = (1 / num_samples) * np.sum(y_predict - y)\n",
        "\n",
        "            # 가중치와 편향을 업데이트합니다.\n",
        "            self.weights -= self.learning_rate * dw\n",
        "            self.bias -= self.learning_rate * db\n",
        "\n",
        "    # predict 메소드를 정의합니다. 이 메소드는 학습된 모델을 사용하여 입력 데이터 X에 대한 예측값을 반환합니다.\n",
        "    def predict(self, X):\n",
        "        # 학습된 가중치와 편향을 사용하여 예측값을 계산하고 반환합니다.\n",
        "        return np.dot(X, self.weights) + self.bias\n"
      ],
      "metadata": {
        "id": "rQbZvks0sud4"
      },
      "execution_count": 66,
      "outputs": []
    },
    {
      "cell_type": "code",
      "source": [
        "# instantiate the model\n",
        "model = MyLinearRegression(learning_rate=0.01, iterations=1000)\n",
        "\n",
        "# create some data\n",
        "X = np.random.rand(100, 1)\n",
        "y = 2 * X + 1 + 0.5 * np.random.randn(100, 1)\n",
        "\n",
        "# reshape y to the correct dimension\n",
        "y = y.reshape(y.shape[0],)\n",
        "\n",
        "# fit the model\n",
        "model.fit(X, y)\n",
        "\n",
        "# make predictions on the training data\n",
        "y_pred = model.predict(X)\n",
        "\n",
        "# print the predictions\n",
        "print(y_pred)\n"
      ],
      "metadata": {
        "colab": {
          "base_uri": "https://localhost:8080/"
        },
        "id": "9gHUf_f3sxVx",
        "outputId": "c95d6bec-73df-42ac-ee6d-94179b4b6942"
      },
      "execution_count": 67,
      "outputs": [
        {
          "output_type": "stream",
          "name": "stdout",
          "text": [
            "[1.89509161 2.74029046 2.62863701 1.6136363  2.60529564 1.68235558\n",
            " 2.73482415 2.66788833 1.74849425 2.1866349  1.70144031 2.78565191\n",
            " 1.79424114 1.64852651 2.26045755 2.37388383 1.41034742 2.11819181\n",
            " 1.59461516 2.52184877 1.71303357 1.64553145 2.21553917 1.57077603\n",
            " 2.4112409  1.79814668 1.82455796 2.11363985 2.28685732 1.75449337\n",
            " 2.48609811 1.78072558 1.83303565 2.13984594 1.37133478 1.69838753\n",
            " 2.70251585 2.74341761 2.61067676 2.45738562 2.02137461 2.35122264\n",
            " 1.90285062 1.81029956 1.72812434 2.28641212 2.15309799 1.60859056\n",
            " 2.73999972 2.77221775 2.72343704 2.54246093 2.44985627 2.18988944\n",
            " 1.37773083 1.93176635 1.78991689 2.21110927 2.62288933 2.59553887\n",
            " 2.60177173 1.81968206 1.40924177 2.76147773 2.20493658 1.56152039\n",
            " 1.9440809  2.74393662 2.15846911 1.43158979 2.04868725 1.95266748\n",
            " 2.59666923 2.40278252 1.9036734  1.69597227 1.92623958 1.40381818\n",
            " 1.98990501 2.0805592  2.07913633 1.34970169 2.1376695  1.47864675\n",
            " 1.86899662 1.96032638 1.73987324 2.1560195  1.585996   1.91468848\n",
            " 1.34592175 1.98116116 1.90699165 2.3233736  1.36609583 2.21423361\n",
            " 2.40206542 2.52924263 2.65886238 1.61269598]\n"
          ]
        }
      ]
    }
  ]
}